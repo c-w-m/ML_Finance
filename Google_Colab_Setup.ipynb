{
 "cells": [
  {
   "cell_type": "markdown",
   "metadata": {
    "colab_type": "text",
    "id": "KAO8D7VEmNTD"
   },
   "source": [
    "## To set up the directory in your Google Drive, \n",
    "\n",
    "First upload ML_Finance_Codes.zip into the working directory using the Files panel of the sidebar on the left.\n",
    "\n",
    "Once it has uploaded, it should appear alongside sample_data. \n",
    "\n",
    "Then, run the cell below to unzip it into your Google Drive. Allow time for the unzipping to complete."
   ]
  },
  {
   "cell_type": "code",
   "execution_count": 54,
   "metadata": {
    "colab": {
     "base_uri": "https://localhost:8080/",
     "height": 34
    },
    "colab_type": "code",
    "id": "h6IE_PFWD_k1",
    "outputId": "030c2b52-9647-44b4-f3bf-22d624976e30"
   },
   "outputs": [
    {
     "name": "stdout",
     "output_type": "stream",
     "text": [
      "Mounted at /content/drive\n"
     ]
    }
   ],
   "source": [
    "from google.colab import drive\n",
    "import os    \n",
    "mountpoint = '/content/drive'\n",
    "drive.mount(mountpoint, force_remount=True)\n",
    "path = mountpoint + '/My Drive/'\n",
    "unzip_cmd = 'unzip ML_Finance_Codes.zip -d ' + path.replace(' ', '\\ ')\n",
    "\n",
    "if os.path.exists('ML_Finance_Codes.zip'):\n",
    "    if os.path.exists(dir_path):\n",
    "        print(dir_path, 'exists already.')\n",
    "    else:\n",
    "        os.system(unzip_cmd)\n",
    "else:\n",
    "    print('ML_Finance_Codes.zip not in current working directory!')"
   ]
  },
  {
   "cell_type": "markdown",
   "metadata": {
    "colab_type": "text",
    "id": "56kZoOqemNTT"
   },
   "source": [
    "## Once ML_Finance_Codes directory is in Google Drive, \n",
    "add this cell to the top of a notebook, \n",
    "set nb_folder to the correct folder name, \n",
    "and run the cell before running the rest of the notebook"
   ]
  },
  {
   "cell_type": "code",
   "execution_count": 59,
   "metadata": {
    "colab": {
     "base_uri": "https://localhost:8080/",
     "height": 52
    },
    "colab_type": "code",
    "id": "sQuJupS9mNTi",
    "outputId": "d332d9d5-041c-48cc-f91c-a55c0efe9ff1"
   },
   "outputs": [
    {
     "name": "stdout",
     "output_type": "stream",
     "text": [
      "Mounted at /content/drive\n",
      "Current working directory: /content/drive/My Drive/ML_Finance_Codes/Chapter4-NNs\n"
     ]
    }
   ],
   "source": [
    "nb_folder = \"Chapter4-NNs/\" # This should match the name of the folder within ML_Finance_Codes\n",
    "                            # in which the notebook that you are running originates\n",
    "try:    \n",
    "    from google.colab import drive\n",
    "    on_colab = True\n",
    "except ModuleNotFoundError:\n",
    "    on_colab = False\n",
    "    print(\"Assuming you are running this notebook from the 'MLFenv'\")\n",
    "    print(\"virtual environment described in SETUP.html\")\n",
    "\n",
    "if on_colab:\n",
    "    import os    \n",
    "    mountpoint = '/content/drive'\n",
    "    drive.mount(mountpoint, force_remount=True)\n",
    "    path = mountpoint + '/My Drive/ML_Finance_Codes/' + nb_folder\n",
    "    try:\n",
    "        os.chdir(path)\n",
    "        print('Current working directory:', os.getcwd())\n",
    "    except FileNotFoundError as e:\n",
    "        print(\"\\nThe 'ML_Finance_Codes' folder must be unzipped in\")\n",
    "        print(\"the root directory of your Google Drive!\\n\")\n",
    "        print(e)"
   ]
  },
  {
   "cell_type": "markdown",
   "metadata": {
    "colab_type": "text",
    "id": "65UqdDu6ZdWq"
   },
   "source": [
    "If a notebook requires either of these libraries, run the corresponding command below to install it in the Google Colab VM:"
   ]
  },
  {
   "cell_type": "code",
   "execution_count": 0,
   "metadata": {
    "colab": {},
    "colab_type": "code",
    "id": "y778ACtmmNTu"
   },
   "outputs": [],
   "source": [
    "!pip install gpytorch"
   ]
  },
  {
   "cell_type": "code",
   "execution_count": 0,
   "metadata": {
    "colab": {},
    "colab_type": "code",
    "id": "GXSiZsWGSiAE"
   },
   "outputs": [],
   "source": [
    "!pip install arviz"
   ]
  }
 ],
 "metadata": {
  "colab": {
   "collapsed_sections": [],
   "name": "Google Colab Setup.ipynb",
   "provenance": [],
   "toc_visible": true
  },
  "kernelspec": {
   "display_name": "Python 3",
   "language": "python",
   "name": "python3"
  },
  "language_info": {
   "codemirror_mode": {
    "name": "ipython",
    "version": 3
   },
   "file_extension": ".py",
   "mimetype": "text/x-python",
   "name": "python",
   "nbconvert_exporter": "python",
   "pygments_lexer": "ipython3",
   "version": "3.6.13"
  }
 },
 "nbformat": 4,
 "nbformat_minor": 1
}
