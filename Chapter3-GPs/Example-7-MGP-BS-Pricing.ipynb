{
 "cells": [
  {
   "cell_type": "code",
   "execution_count": 22,
   "metadata": {},
   "outputs": [],
   "source": [
    "# Example-7-MGP-BS-Pricing\n",
    "# Author: Matthew Dixon\n",
    "# Version: 1.0 (28.4.2020)\n",
    "# License: MIT\n",
    "# Email: matthew.dixon@iit.edu\n",
    "# Notes: tested on Mac OS X running Python 3.6.9 with the following packages:\n",
    "# scikit-learn=0.22.1, numpy=1.18.1, matplotlib=3.1.3, gpytorch=0.1.0, torch=1.5.0, scipy=1.4.1\n",
    "# Citation: Please cite the following reference if this notebook is used for research purposes:\n",
    "# Dixon M.F. Halperin I. and P. Bilokon, Machine Learning in Finance: From Theory to Practice, Springer Graduate textbook Series, 2020. "
   ]
  },
  {
   "cell_type": "markdown",
   "metadata": {},
   "source": [
    "# Overview\n",
    "The purpose of this notebook is to demonstrate the fitting of a multi-response Gaussian Process Regression model (GP) to the prices of two options. In this notebook, the prices of a call and put are generated from the Black-Scholes model.  The notebook begins by building a multi-GP model, and then evaluates the error.\n",
    "\n",
    "Finally the notebook studies the posterior covariance term which is uniquely available in the multi-GP model. See Section 6 for further details."
   ]
  },
  {
   "cell_type": "code",
   "execution_count": 1,
   "metadata": {
    "scrolled": true
   },
   "outputs": [],
   "source": [
    "import torch\n",
    "import gpytorch\n",
    "import numpy as np\n",
    "from BlackScholes import bsformula\n",
    "from matplotlib import pyplot as plt\n",
    "from scipy import stats  \n",
    "\n",
    "%matplotlib inline"
   ]
  },
  {
   "cell_type": "markdown",
   "metadata": {},
   "source": [
    "## Black-Scholes Model"
   ]
  },
  {
   "cell_type": "markdown",
   "metadata": {},
   "source": [
    "First, set the model parameters"
   ]
  },
  {
   "cell_type": "code",
   "execution_count": 2,
   "metadata": {},
   "outputs": [],
   "source": [
    "r = 0.0     # risk-free rate\n",
    "S= 100      # Underlying spot\n",
    "KC = 110    # Call strike\n",
    "KP = 90     # Put strike\n",
    "sigma = 0.3 # implied volatility\n",
    "T = 2.0     # Time to maturity"
   ]
  },
  {
   "cell_type": "markdown",
   "metadata": {},
   "source": [
    "Define the call and put prices using the BS model\n"
   ]
  },
  {
   "cell_type": "code",
   "execution_count": 3,
   "metadata": {},
   "outputs": [],
   "source": [
    "call = lambda x: bsformula(1, lb+(ub-lb)*x, KC, r, T, sigma, 0)[0]\n",
    "put = lambda x: bsformula(-1, lb+(ub-lb)*x, KP, r, T, sigma, 0)[0]"
   ]
  },
  {
   "cell_type": "markdown",
   "metadata": {},
   "source": [
    "Create an input vector representing the underlying and output vectors `train_y1` and `train_y2` representing the call and put prices respectively from the Black-Scholes model. "
   ]
  },
  {
   "cell_type": "code",
   "execution_count": 4,
   "metadata": {},
   "outputs": [],
   "source": [
    "lb = 0.001             # lower bound on domain\n",
    "ub = 300               # upper bound on domain\n",
    "training_number = 50   # Number of training samples\n",
    "testing_number =  100  # Number of testing samples\n",
    "\n",
    "train_x = torch.linspace(0, 1.0, training_number)\n",
    "train_y1 = torch.FloatTensor(call(np.array(train_x)))\n",
    "train_y2 = torch.FloatTensor(put(np.array(train_x)))"
   ]
  },
  {
   "cell_type": "markdown",
   "metadata": {},
   "source": [
    "Create `train_y` which stacks the two into a tensor for training a model which outputs both quantities"
   ]
  },
  {
   "cell_type": "code",
   "execution_count": 5,
   "metadata": {},
   "outputs": [],
   "source": [
    "train_y = torch.stack([train_y1, train_y2], -1)"
   ]
  },
  {
   "cell_type": "markdown",
   "metadata": {},
   "source": [
    "Observe the first few elements of `train_y`:"
   ]
  },
  {
   "cell_type": "code",
   "execution_count": 6,
   "metadata": {},
   "outputs": [
    {
     "name": "stdout",
     "output_type": "stream",
     "text": [
      "         Call        Put\n",
      "tensor([[0.0000e+00, 8.9999e+01],\n",
      "        [7.5293e-12, 8.3877e+01],\n",
      "        [3.1548e-07, 7.7754e+01],\n",
      "        [4.9525e-05, 7.1632e+01],\n",
      "        [1.0728e-03, 6.5515e+01]])\n"
     ]
    }
   ],
   "source": [
    "print('         Call        Put')\n",
    "print(train_y[:5])"
   ]
  },
  {
   "cell_type": "markdown",
   "metadata": {},
   "source": [
    "We generate some testing data in the same way"
   ]
  },
  {
   "cell_type": "code",
   "execution_count": 7,
   "metadata": {},
   "outputs": [],
   "source": [
    "test_x = torch.linspace(0, 1.0, testing_number)\n",
    "test_y1 = torch.FloatTensor(call(np.array(test_x)))\n",
    "test_y2 = torch.FloatTensor(put(np.array(test_x)))\n",
    "test_y = torch.stack([test_y1, test_y2], -1)"
   ]
  },
  {
   "cell_type": "markdown",
   "metadata": {},
   "source": [
    "## Multi-Reponse GP Model"
   ]
  },
  {
   "cell_type": "markdown",
   "metadata": {},
   "source": [
    "Here we create the class which defines the architecture of our GP model"
   ]
  },
  {
   "cell_type": "code",
   "execution_count": 8,
   "metadata": {},
   "outputs": [],
   "source": [
    "class MultitaskGPModel(gpytorch.models.ExactGP):\n",
    "    def __init__(self, train_x, train_y, likelihood):\n",
    "        super(MultitaskGPModel, self).__init__(train_x, train_y, likelihood)\n",
    "        \n",
    "        self.mean_module = gpytorch.means.MultitaskMean(\n",
    "            gpytorch.means.ConstantMean(), num_tasks=2\n",
    "        )\n",
    "        \n",
    "        self.covar_module = gpytorch.kernels.MultitaskKernel(gpytorch.kernels.ScaleKernel(\n",
    "            gpytorch.kernels.MaternKernel(nu=2.5)), num_tasks=2, rank=1\n",
    "        )\n",
    "    \n",
    "    def forward(self, x):\n",
    "        mean_x = self.mean_module(x)\n",
    "        covar_x = self.covar_module(x)\n",
    "        return gpytorch.distributions.MultitaskMultivariateNormal(mean_x, covar_x)"
   ]
  },
  {
   "cell_type": "markdown",
   "metadata": {},
   "source": [
    "## Fit the multi-GP model"
   ]
  },
  {
   "cell_type": "code",
   "execution_count": 9,
   "metadata": {},
   "outputs": [
    {
     "name": "stdout",
     "output_type": "stream",
     "text": [
      "Iter 1/300 - Loss: 10855.494 lengthscale: 0.693 noise: 0.693\n",
      "Iter 2/300 - Loss: 9196.709 lengthscale: 0.644 noise: 0.744\n",
      "Iter 3/300 - Loss: 7806.065 lengthscale: 0.599 noise: 0.797\n",
      "Iter 4/300 - Loss: 6655.760 lengthscale: 0.556 noise: 0.851\n",
      "Iter 5/300 - Loss: 5715.766 lengthscale: 0.516 noise: 0.905\n",
      "Iter 6/300 - Loss: 4952.923 lengthscale: 0.481 noise: 0.958\n",
      "Iter 7/300 - Loss: 4334.478 lengthscale: 0.448 noise: 1.010\n",
      "Iter 8/300 - Loss: 3830.990 lengthscale: 0.419 noise: 1.062\n",
      "Iter 9/300 - Loss: 3417.839 lengthscale: 0.393 noise: 1.112\n",
      "Iter 10/300 - Loss: 3075.426 lengthscale: 0.371 noise: 1.160\n",
      "Iter 11/300 - Loss: 2788.561 lengthscale: 0.350 noise: 1.207\n",
      "Iter 12/300 - Loss: 2545.590 lengthscale: 0.333 noise: 1.251\n",
      "Iter 13/300 - Loss: 2337.571 lengthscale: 0.317 noise: 1.294\n",
      "Iter 14/300 - Loss: 2157.620 lengthscale: 0.304 noise: 1.335\n",
      "Iter 15/300 - Loss: 2000.409 lengthscale: 0.292 noise: 1.374\n",
      "Iter 16/300 - Loss: 1861.799 lengthscale: 0.281 noise: 1.412\n",
      "Iter 17/300 - Loss: 1738.562 lengthscale: 0.272 noise: 1.447\n",
      "Iter 18/300 - Loss: 1628.165 lengthscale: 0.264 noise: 1.480\n",
      "Iter 19/300 - Loss: 1528.616 lengthscale: 0.258 noise: 1.512\n",
      "Iter 20/300 - Loss: 1438.337 lengthscale: 0.252 noise: 1.542\n",
      "Iter 21/300 - Loss: 1356.071 lengthscale: 0.247 noise: 1.571\n",
      "Iter 22/300 - Loss: 1280.807 lengthscale: 0.242 noise: 1.598\n",
      "Iter 23/300 - Loss: 1211.729 lengthscale: 0.238 noise: 1.623\n",
      "Iter 24/300 - Loss: 1148.169 lengthscale: 0.235 noise: 1.647\n",
      "Iter 25/300 - Loss: 1089.571 lengthscale: 0.232 noise: 1.669\n",
      "Iter 26/300 - Loss: 1035.473 lengthscale: 0.230 noise: 1.690\n",
      "Iter 27/300 - Loss: 985.480 lengthscale: 0.228 noise: 1.710\n",
      "Iter 28/300 - Loss: 939.250 lengthscale: 0.226 noise: 1.729\n",
      "Iter 29/300 - Loss: 896.487 lengthscale: 0.225 noise: 1.746\n",
      "Iter 30/300 - Loss: 856.925 lengthscale: 0.224 noise: 1.763\n",
      "Iter 31/300 - Loss: 820.326 lengthscale: 0.223 noise: 1.778\n",
      "Iter 32/300 - Loss: 786.471 lengthscale: 0.223 noise: 1.793\n",
      "Iter 33/300 - Loss: 755.160 lengthscale: 0.222 noise: 1.806\n",
      "Iter 34/300 - Loss: 726.208 lengthscale: 0.222 noise: 1.819\n",
      "Iter 35/300 - Loss: 699.442 lengthscale: 0.221 noise: 1.831\n",
      "Iter 36/300 - Loss: 674.699 lengthscale: 0.221 noise: 1.842\n",
      "Iter 37/300 - Loss: 651.828 lengthscale: 0.221 noise: 1.853\n",
      "Iter 38/300 - Loss: 630.687 lengthscale: 0.221 noise: 1.862\n",
      "Iter 39/300 - Loss: 611.143 lengthscale: 0.222 noise: 1.872\n",
      "Iter 40/300 - Loss: 593.069 lengthscale: 0.222 noise: 1.880\n",
      "Iter 41/300 - Loss: 576.351 lengthscale: 0.222 noise: 1.888\n",
      "Iter 42/300 - Loss: 560.878 lengthscale: 0.222 noise: 1.896\n",
      "Iter 43/300 - Loss: 546.549 lengthscale: 0.222 noise: 1.903\n",
      "Iter 44/300 - Loss: 533.271 lengthscale: 0.223 noise: 1.909\n",
      "Iter 45/300 - Loss: 520.955 lengthscale: 0.223 noise: 1.915\n",
      "Iter 46/300 - Loss: 509.520 lengthscale: 0.223 noise: 1.921\n",
      "Iter 47/300 - Loss: 498.893 lengthscale: 0.224 noise: 1.926\n",
      "Iter 48/300 - Loss: 489.004 lengthscale: 0.224 noise: 1.931\n",
      "Iter 49/300 - Loss: 479.791 lengthscale: 0.224 noise: 1.936\n",
      "Iter 50/300 - Loss: 471.195 lengthscale: 0.225 noise: 1.940\n",
      "Iter 51/300 - Loss: 463.164 lengthscale: 0.225 noise: 1.944\n",
      "Iter 52/300 - Loss: 455.648 lengthscale: 0.225 noise: 1.948\n",
      "Iter 53/300 - Loss: 448.604 lengthscale: 0.226 noise: 1.952\n",
      "Iter 54/300 - Loss: 441.991 lengthscale: 0.226 noise: 1.955\n",
      "Iter 55/300 - Loss: 435.772 lengthscale: 0.226 noise: 1.958\n",
      "Iter 56/300 - Loss: 429.914 lengthscale: 0.227 noise: 1.961\n",
      "Iter 57/300 - Loss: 424.385 lengthscale: 0.227 noise: 1.964\n",
      "Iter 58/300 - Loss: 419.159 lengthscale: 0.227 noise: 1.967\n",
      "Iter 59/300 - Loss: 414.209 lengthscale: 0.227 noise: 1.969\n",
      "Iter 60/300 - Loss: 409.514 lengthscale: 0.227 noise: 1.971\n",
      "Iter 61/300 - Loss: 405.051 lengthscale: 0.228 noise: 1.973\n",
      "Iter 62/300 - Loss: 400.802 lengthscale: 0.228 noise: 1.975\n",
      "Iter 63/300 - Loss: 396.749 lengthscale: 0.228 noise: 1.977\n",
      "Iter 64/300 - Loss: 392.878 lengthscale: 0.228 noise: 1.979\n",
      "Iter 65/300 - Loss: 389.174 lengthscale: 0.228 noise: 1.981\n",
      "Iter 66/300 - Loss: 385.623 lengthscale: 0.228 noise: 1.982\n",
      "Iter 67/300 - Loss: 382.215 lengthscale: 0.229 noise: 1.984\n",
      "Iter 68/300 - Loss: 378.938 lengthscale: 0.229 noise: 1.985\n",
      "Iter 69/300 - Loss: 375.783 lengthscale: 0.229 noise: 1.986\n",
      "Iter 70/300 - Loss: 372.741 lengthscale: 0.229 noise: 1.987\n",
      "Iter 71/300 - Loss: 369.804 lengthscale: 0.229 noise: 1.988\n",
      "Iter 72/300 - Loss: 366.966 lengthscale: 0.229 noise: 1.990\n",
      "Iter 73/300 - Loss: 364.218 lengthscale: 0.229 noise: 1.991\n",
      "Iter 74/300 - Loss: 361.555 lengthscale: 0.229 noise: 1.991\n",
      "Iter 75/300 - Loss: 358.972 lengthscale: 0.229 noise: 1.992\n",
      "Iter 76/300 - Loss: 356.463 lengthscale: 0.229 noise: 1.993\n",
      "Iter 77/300 - Loss: 354.025 lengthscale: 0.229 noise: 1.994\n",
      "Iter 78/300 - Loss: 351.652 lengthscale: 0.229 noise: 1.995\n",
      "Iter 79/300 - Loss: 349.341 lengthscale: 0.229 noise: 1.995\n",
      "Iter 80/300 - Loss: 347.088 lengthscale: 0.229 noise: 1.996\n",
      "Iter 81/300 - Loss: 344.891 lengthscale: 0.229 noise: 1.996\n",
      "Iter 82/300 - Loss: 342.745 lengthscale: 0.229 noise: 1.997\n",
      "Iter 83/300 - Loss: 340.649 lengthscale: 0.229 noise: 1.997\n",
      "Iter 84/300 - Loss: 338.601 lengthscale: 0.229 noise: 1.998\n",
      "Iter 85/300 - Loss: 336.597 lengthscale: 0.229 noise: 1.998\n",
      "Iter 86/300 - Loss: 334.635 lengthscale: 0.229 noise: 1.998\n",
      "Iter 87/300 - Loss: 332.714 lengthscale: 0.229 noise: 1.999\n",
      "Iter 88/300 - Loss: 330.832 lengthscale: 0.229 noise: 1.999\n",
      "Iter 89/300 - Loss: 328.987 lengthscale: 0.228 noise: 1.999\n",
      "Iter 90/300 - Loss: 327.177 lengthscale: 0.228 noise: 1.999\n",
      "Iter 91/300 - Loss: 325.402 lengthscale: 0.228 noise: 2.000\n",
      "Iter 92/300 - Loss: 323.659 lengthscale: 0.228 noise: 2.000\n",
      "Iter 93/300 - Loss: 321.947 lengthscale: 0.228 noise: 2.000\n",
      "Iter 94/300 - Loss: 320.266 lengthscale: 0.228 noise: 2.000\n",
      "Iter 95/300 - Loss: 318.615 lengthscale: 0.228 noise: 2.000\n",
      "Iter 96/300 - Loss: 316.991 lengthscale: 0.228 noise: 2.000\n",
      "Iter 97/300 - Loss: 315.394 lengthscale: 0.228 noise: 2.000\n",
      "Iter 98/300 - Loss: 313.824 lengthscale: 0.228 noise: 2.000\n",
      "Iter 99/300 - Loss: 312.280 lengthscale: 0.228 noise: 2.000\n",
      "Iter 100/300 - Loss: 310.760 lengthscale: 0.227 noise: 2.000\n",
      "Iter 101/300 - Loss: 309.263 lengthscale: 0.227 noise: 2.000\n",
      "Iter 102/300 - Loss: 307.791 lengthscale: 0.227 noise: 2.000\n",
      "Iter 103/300 - Loss: 306.340 lengthscale: 0.227 noise: 2.000\n",
      "Iter 104/300 - Loss: 304.912 lengthscale: 0.227 noise: 2.000\n",
      "Iter 105/300 - Loss: 303.504 lengthscale: 0.227 noise: 1.999\n",
      "Iter 106/300 - Loss: 302.118 lengthscale: 0.227 noise: 1.999\n",
      "Iter 107/300 - Loss: 300.752 lengthscale: 0.227 noise: 1.999\n",
      "Iter 108/300 - Loss: 299.405 lengthscale: 0.226 noise: 1.999\n",
      "Iter 109/300 - Loss: 298.077 lengthscale: 0.226 noise: 1.998\n",
      "Iter 110/300 - Loss: 296.768 lengthscale: 0.226 noise: 1.998\n",
      "Iter 111/300 - Loss: 295.477 lengthscale: 0.226 noise: 1.998\n",
      "Iter 112/300 - Loss: 294.204 lengthscale: 0.226 noise: 1.997\n",
      "Iter 113/300 - Loss: 292.948 lengthscale: 0.226 noise: 1.997\n",
      "Iter 114/300 - Loss: 291.710 lengthscale: 0.226 noise: 1.997\n",
      "Iter 115/300 - Loss: 290.487 lengthscale: 0.226 noise: 1.996\n",
      "Iter 116/300 - Loss: 289.281 lengthscale: 0.225 noise: 1.996\n",
      "Iter 117/300 - Loss: 288.091 lengthscale: 0.225 noise: 1.995\n",
      "Iter 118/300 - Loss: 286.916 lengthscale: 0.225 noise: 1.995\n",
      "Iter 119/300 - Loss: 285.757 lengthscale: 0.225 noise: 1.994\n",
      "Iter 120/300 - Loss: 284.612 lengthscale: 0.225 noise: 1.994\n",
      "Iter 121/300 - Loss: 283.482 lengthscale: 0.225 noise: 1.993\n",
      "Iter 122/300 - Loss: 282.366 lengthscale: 0.225 noise: 1.993\n",
      "Iter 123/300 - Loss: 281.263 lengthscale: 0.225 noise: 1.992\n",
      "Iter 124/300 - Loss: 280.175 lengthscale: 0.224 noise: 1.992\n",
      "Iter 125/300 - Loss: 279.100 lengthscale: 0.224 noise: 1.991\n",
      "Iter 126/300 - Loss: 278.038 lengthscale: 0.224 noise: 1.991\n",
      "Iter 127/300 - Loss: 276.988 lengthscale: 0.224 noise: 1.990\n",
      "Iter 128/300 - Loss: 275.952 lengthscale: 0.224 noise: 1.989\n",
      "Iter 129/300 - Loss: 274.928 lengthscale: 0.224 noise: 1.989\n",
      "Iter 130/300 - Loss: 273.915 lengthscale: 0.224 noise: 1.988\n",
      "Iter 131/300 - Loss: 272.915 lengthscale: 0.224 noise: 1.987\n",
      "Iter 132/300 - Loss: 271.927 lengthscale: 0.223 noise: 1.987\n",
      "Iter 133/300 - Loss: 270.950 lengthscale: 0.223 noise: 1.986\n",
      "Iter 134/300 - Loss: 269.984 lengthscale: 0.223 noise: 1.985\n",
      "Iter 135/300 - Loss: 269.029 lengthscale: 0.223 noise: 1.984\n",
      "Iter 136/300 - Loss: 268.085 lengthscale: 0.223 noise: 1.983\n",
      "Iter 137/300 - Loss: 267.152 lengthscale: 0.223 noise: 1.983\n",
      "Iter 138/300 - Loss: 266.229 lengthscale: 0.223 noise: 1.982\n",
      "Iter 139/300 - Loss: 265.317 lengthscale: 0.223 noise: 1.981\n",
      "Iter 140/300 - Loss: 264.414 lengthscale: 0.222 noise: 1.980\n",
      "Iter 141/300 - Loss: 263.522 lengthscale: 0.222 noise: 1.979\n",
      "Iter 142/300 - Loss: 262.639 lengthscale: 0.222 noise: 1.978\n",
      "Iter 143/300 - Loss: 261.766 lengthscale: 0.222 noise: 1.977\n",
      "Iter 144/300 - Loss: 260.902 lengthscale: 0.222 noise: 1.976\n",
      "Iter 145/300 - Loss: 260.047 lengthscale: 0.222 noise: 1.976\n",
      "Iter 146/300 - Loss: 259.202 lengthscale: 0.222 noise: 1.975\n",
      "Iter 147/300 - Loss: 258.366 lengthscale: 0.222 noise: 1.974\n",
      "Iter 148/300 - Loss: 257.538 lengthscale: 0.222 noise: 1.973\n",
      "Iter 149/300 - Loss: 256.719 lengthscale: 0.221 noise: 1.972\n",
      "Iter 150/300 - Loss: 255.909 lengthscale: 0.221 noise: 1.971\n",
      "Iter 151/300 - Loss: 255.107 lengthscale: 0.221 noise: 1.970\n",
      "Iter 152/300 - Loss: 254.313 lengthscale: 0.221 noise: 1.968\n",
      "Iter 153/300 - Loss: 253.527 lengthscale: 0.221 noise: 1.967\n",
      "Iter 154/300 - Loss: 252.750 lengthscale: 0.221 noise: 1.966\n",
      "Iter 155/300 - Loss: 251.980 lengthscale: 0.221 noise: 1.965\n",
      "Iter 156/300 - Loss: 251.218 lengthscale: 0.221 noise: 1.964\n"
     ]
    },
    {
     "name": "stdout",
     "output_type": "stream",
     "text": [
      "Iter 157/300 - Loss: 250.463 lengthscale: 0.221 noise: 1.963\n",
      "Iter 158/300 - Loss: 249.716 lengthscale: 0.220 noise: 1.962\n",
      "Iter 159/300 - Loss: 248.977 lengthscale: 0.220 noise: 1.961\n",
      "Iter 160/300 - Loss: 248.244 lengthscale: 0.220 noise: 1.959\n",
      "Iter 161/300 - Loss: 247.519 lengthscale: 0.220 noise: 1.958\n",
      "Iter 162/300 - Loss: 246.801 lengthscale: 0.220 noise: 1.957\n",
      "Iter 163/300 - Loss: 246.090 lengthscale: 0.220 noise: 1.956\n",
      "Iter 164/300 - Loss: 245.386 lengthscale: 0.220 noise: 1.955\n",
      "Iter 165/300 - Loss: 244.688 lengthscale: 0.220 noise: 1.953\n",
      "Iter 166/300 - Loss: 243.997 lengthscale: 0.220 noise: 1.952\n",
      "Iter 167/300 - Loss: 243.312 lengthscale: 0.220 noise: 1.951\n",
      "Iter 168/300 - Loss: 242.634 lengthscale: 0.220 noise: 1.949\n",
      "Iter 169/300 - Loss: 241.962 lengthscale: 0.219 noise: 1.948\n",
      "Iter 170/300 - Loss: 241.297 lengthscale: 0.219 noise: 1.947\n",
      "Iter 171/300 - Loss: 240.637 lengthscale: 0.219 noise: 1.945\n",
      "Iter 172/300 - Loss: 239.984 lengthscale: 0.219 noise: 1.944\n",
      "Iter 173/300 - Loss: 239.337 lengthscale: 0.219 noise: 1.943\n",
      "Iter 174/300 - Loss: 238.695 lengthscale: 0.219 noise: 1.941\n",
      "Iter 175/300 - Loss: 238.059 lengthscale: 0.219 noise: 1.940\n",
      "Iter 176/300 - Loss: 237.429 lengthscale: 0.219 noise: 1.938\n",
      "Iter 177/300 - Loss: 236.805 lengthscale: 0.219 noise: 1.937\n",
      "Iter 178/300 - Loss: 236.186 lengthscale: 0.219 noise: 1.936\n",
      "Iter 179/300 - Loss: 235.573 lengthscale: 0.219 noise: 1.934\n",
      "Iter 180/300 - Loss: 234.965 lengthscale: 0.218 noise: 1.933\n",
      "Iter 181/300 - Loss: 234.362 lengthscale: 0.218 noise: 1.931\n",
      "Iter 182/300 - Loss: 233.765 lengthscale: 0.218 noise: 1.930\n",
      "Iter 183/300 - Loss: 233.172 lengthscale: 0.218 noise: 1.928\n",
      "Iter 184/300 - Loss: 232.585 lengthscale: 0.218 noise: 1.927\n",
      "Iter 185/300 - Loss: 232.003 lengthscale: 0.218 noise: 1.925\n",
      "Iter 186/300 - Loss: 231.426 lengthscale: 0.218 noise: 1.923\n",
      "Iter 187/300 - Loss: 230.853 lengthscale: 0.218 noise: 1.922\n",
      "Iter 188/300 - Loss: 230.286 lengthscale: 0.218 noise: 1.920\n",
      "Iter 189/300 - Loss: 229.723 lengthscale: 0.218 noise: 1.919\n",
      "Iter 190/300 - Loss: 229.165 lengthscale: 0.218 noise: 1.917\n",
      "Iter 191/300 - Loss: 228.611 lengthscale: 0.218 noise: 1.915\n",
      "Iter 192/300 - Loss: 228.062 lengthscale: 0.218 noise: 1.914\n",
      "Iter 193/300 - Loss: 227.518 lengthscale: 0.217 noise: 1.912\n",
      "Iter 194/300 - Loss: 226.978 lengthscale: 0.217 noise: 1.910\n",
      "Iter 195/300 - Loss: 226.442 lengthscale: 0.217 noise: 1.909\n",
      "Iter 196/300 - Loss: 225.911 lengthscale: 0.217 noise: 1.907\n",
      "Iter 197/300 - Loss: 225.384 lengthscale: 0.217 noise: 1.905\n",
      "Iter 198/300 - Loss: 224.861 lengthscale: 0.217 noise: 1.904\n",
      "Iter 199/300 - Loss: 224.342 lengthscale: 0.217 noise: 1.902\n",
      "Iter 200/300 - Loss: 223.828 lengthscale: 0.217 noise: 1.900\n",
      "Iter 201/300 - Loss: 223.317 lengthscale: 0.217 noise: 1.898\n",
      "Iter 202/300 - Loss: 222.811 lengthscale: 0.217 noise: 1.896\n",
      "Iter 203/300 - Loss: 222.308 lengthscale: 0.217 noise: 1.895\n",
      "Iter 204/300 - Loss: 221.809 lengthscale: 0.217 noise: 1.893\n",
      "Iter 205/300 - Loss: 221.314 lengthscale: 0.217 noise: 1.891\n",
      "Iter 206/300 - Loss: 220.823 lengthscale: 0.217 noise: 1.889\n",
      "Iter 207/300 - Loss: 220.336 lengthscale: 0.217 noise: 1.887\n",
      "Iter 208/300 - Loss: 219.852 lengthscale: 0.216 noise: 1.886\n",
      "Iter 209/300 - Loss: 219.372 lengthscale: 0.216 noise: 1.884\n",
      "Iter 210/300 - Loss: 218.896 lengthscale: 0.216 noise: 1.882\n",
      "Iter 211/300 - Loss: 218.423 lengthscale: 0.216 noise: 1.880\n",
      "Iter 212/300 - Loss: 217.953 lengthscale: 0.216 noise: 1.878\n",
      "Iter 213/300 - Loss: 217.487 lengthscale: 0.216 noise: 1.876\n",
      "Iter 214/300 - Loss: 217.025 lengthscale: 0.216 noise: 1.874\n",
      "Iter 215/300 - Loss: 216.566 lengthscale: 0.216 noise: 1.872\n",
      "Iter 216/300 - Loss: 216.110 lengthscale: 0.216 noise: 1.870\n",
      "Iter 217/300 - Loss: 215.657 lengthscale: 0.216 noise: 1.868\n",
      "Iter 218/300 - Loss: 215.208 lengthscale: 0.216 noise: 1.866\n",
      "Iter 219/300 - Loss: 214.762 lengthscale: 0.216 noise: 1.864\n",
      "Iter 220/300 - Loss: 214.319 lengthscale: 0.216 noise: 1.862\n",
      "Iter 221/300 - Loss: 213.879 lengthscale: 0.216 noise: 1.860\n",
      "Iter 222/300 - Loss: 213.442 lengthscale: 0.216 noise: 1.858\n",
      "Iter 223/300 - Loss: 213.008 lengthscale: 0.216 noise: 1.856\n",
      "Iter 224/300 - Loss: 212.578 lengthscale: 0.216 noise: 1.854\n",
      "Iter 225/300 - Loss: 212.150 lengthscale: 0.216 noise: 1.852\n",
      "Iter 226/300 - Loss: 211.725 lengthscale: 0.216 noise: 1.850\n",
      "Iter 227/300 - Loss: 211.303 lengthscale: 0.215 noise: 1.848\n",
      "Iter 228/300 - Loss: 210.884 lengthscale: 0.215 noise: 1.846\n",
      "Iter 229/300 - Loss: 210.468 lengthscale: 0.215 noise: 1.843\n",
      "Iter 230/300 - Loss: 210.055 lengthscale: 0.215 noise: 1.841\n",
      "Iter 231/300 - Loss: 209.644 lengthscale: 0.215 noise: 1.839\n",
      "Iter 232/300 - Loss: 209.236 lengthscale: 0.215 noise: 1.837\n",
      "Iter 233/300 - Loss: 208.831 lengthscale: 0.215 noise: 1.835\n",
      "Iter 234/300 - Loss: 208.429 lengthscale: 0.215 noise: 1.833\n",
      "Iter 235/300 - Loss: 208.029 lengthscale: 0.215 noise: 1.830\n",
      "Iter 236/300 - Loss: 207.632 lengthscale: 0.215 noise: 1.828\n",
      "Iter 237/300 - Loss: 207.237 lengthscale: 0.215 noise: 1.826\n",
      "Iter 238/300 - Loss: 206.845 lengthscale: 0.215 noise: 1.824\n",
      "Iter 239/300 - Loss: 206.455 lengthscale: 0.215 noise: 1.821\n",
      "Iter 240/300 - Loss: 206.068 lengthscale: 0.215 noise: 1.819\n",
      "Iter 241/300 - Loss: 205.683 lengthscale: 0.215 noise: 1.817\n",
      "Iter 242/300 - Loss: 205.301 lengthscale: 0.215 noise: 1.814\n",
      "Iter 243/300 - Loss: 204.921 lengthscale: 0.215 noise: 1.812\n",
      "Iter 244/300 - Loss: 204.544 lengthscale: 0.215 noise: 1.810\n",
      "Iter 245/300 - Loss: 204.169 lengthscale: 0.215 noise: 1.808\n",
      "Iter 246/300 - Loss: 203.796 lengthscale: 0.215 noise: 1.805\n",
      "Iter 247/300 - Loss: 203.425 lengthscale: 0.215 noise: 1.803\n",
      "Iter 248/300 - Loss: 203.057 lengthscale: 0.215 noise: 1.800\n",
      "Iter 249/300 - Loss: 202.691 lengthscale: 0.215 noise: 1.798\n",
      "Iter 250/300 - Loss: 202.327 lengthscale: 0.215 noise: 1.796\n",
      "Iter 251/300 - Loss: 201.965 lengthscale: 0.215 noise: 1.793\n",
      "Iter 252/300 - Loss: 201.606 lengthscale: 0.214 noise: 1.791\n",
      "Iter 253/300 - Loss: 201.248 lengthscale: 0.214 noise: 1.788\n",
      "Iter 254/300 - Loss: 200.893 lengthscale: 0.214 noise: 1.786\n",
      "Iter 255/300 - Loss: 200.540 lengthscale: 0.214 noise: 1.783\n",
      "Iter 256/300 - Loss: 200.189 lengthscale: 0.214 noise: 1.781\n",
      "Iter 257/300 - Loss: 199.839 lengthscale: 0.214 noise: 1.779\n",
      "Iter 258/300 - Loss: 199.492 lengthscale: 0.214 noise: 1.776\n",
      "Iter 259/300 - Loss: 199.147 lengthscale: 0.214 noise: 1.774\n",
      "Iter 260/300 - Loss: 198.804 lengthscale: 0.214 noise: 1.771\n",
      "Iter 261/300 - Loss: 198.463 lengthscale: 0.214 noise: 1.768\n",
      "Iter 262/300 - Loss: 198.124 lengthscale: 0.214 noise: 1.766\n",
      "Iter 263/300 - Loss: 197.786 lengthscale: 0.214 noise: 1.763\n",
      "Iter 264/300 - Loss: 197.451 lengthscale: 0.214 noise: 1.761\n",
      "Iter 265/300 - Loss: 197.117 lengthscale: 0.214 noise: 1.758\n",
      "Iter 266/300 - Loss: 196.785 lengthscale: 0.214 noise: 1.756\n",
      "Iter 267/300 - Loss: 196.455 lengthscale: 0.214 noise: 1.753\n",
      "Iter 268/300 - Loss: 196.127 lengthscale: 0.214 noise: 1.750\n",
      "Iter 269/300 - Loss: 195.800 lengthscale: 0.214 noise: 1.748\n",
      "Iter 270/300 - Loss: 195.476 lengthscale: 0.214 noise: 1.745\n",
      "Iter 271/300 - Loss: 195.153 lengthscale: 0.214 noise: 1.742\n",
      "Iter 272/300 - Loss: 194.831 lengthscale: 0.214 noise: 1.740\n",
      "Iter 273/300 - Loss: 194.512 lengthscale: 0.214 noise: 1.737\n",
      "Iter 274/300 - Loss: 194.194 lengthscale: 0.214 noise: 1.734\n",
      "Iter 275/300 - Loss: 193.878 lengthscale: 0.214 noise: 1.732\n",
      "Iter 276/300 - Loss: 193.563 lengthscale: 0.214 noise: 1.729\n",
      "Iter 277/300 - Loss: 193.250 lengthscale: 0.214 noise: 1.726\n",
      "Iter 278/300 - Loss: 192.938 lengthscale: 0.214 noise: 1.724\n",
      "Iter 279/300 - Loss: 192.629 lengthscale: 0.214 noise: 1.721\n",
      "Iter 280/300 - Loss: 192.320 lengthscale: 0.214 noise: 1.718\n",
      "Iter 281/300 - Loss: 192.014 lengthscale: 0.214 noise: 1.715\n",
      "Iter 282/300 - Loss: 191.708 lengthscale: 0.214 noise: 1.712\n",
      "Iter 283/300 - Loss: 191.405 lengthscale: 0.214 noise: 1.710\n",
      "Iter 284/300 - Loss: 191.102 lengthscale: 0.214 noise: 1.707\n",
      "Iter 285/300 - Loss: 190.802 lengthscale: 0.214 noise: 1.704\n",
      "Iter 286/300 - Loss: 190.502 lengthscale: 0.214 noise: 1.701\n",
      "Iter 287/300 - Loss: 190.205 lengthscale: 0.214 noise: 1.698\n",
      "Iter 288/300 - Loss: 189.908 lengthscale: 0.214 noise: 1.695\n",
      "Iter 289/300 - Loss: 189.613 lengthscale: 0.214 noise: 1.693\n",
      "Iter 290/300 - Loss: 189.320 lengthscale: 0.214 noise: 1.690\n",
      "Iter 291/300 - Loss: 189.027 lengthscale: 0.214 noise: 1.687\n",
      "Iter 292/300 - Loss: 188.736 lengthscale: 0.214 noise: 1.684\n",
      "Iter 293/300 - Loss: 188.447 lengthscale: 0.214 noise: 1.681\n",
      "Iter 294/300 - Loss: 188.159 lengthscale: 0.214 noise: 1.678\n",
      "Iter 295/300 - Loss: 187.872 lengthscale: 0.214 noise: 1.675\n",
      "Iter 296/300 - Loss: 187.586 lengthscale: 0.214 noise: 1.672\n",
      "Iter 297/300 - Loss: 187.302 lengthscale: 0.214 noise: 1.669\n",
      "Iter 298/300 - Loss: 187.019 lengthscale: 0.214 noise: 1.666\n",
      "Iter 299/300 - Loss: 186.737 lengthscale: 0.214 noise: 1.663\n",
      "Iter 300/300 - Loss: 186.457 lengthscale: 0.214 noise: 1.660\n"
     ]
    }
   ],
   "source": [
    "likelihood = gpytorch.likelihoods.MultitaskGaussianLikelihood(num_tasks=2)\n",
    "model = MultitaskGPModel(train_x, train_y, likelihood)\n",
    "\n",
    "model.train()\n",
    "likelihood.train()\n",
    "\n",
    "# Use the adam optimizer\n",
    "optimizer = torch.optim.Adam([\n",
    "    {'params': model.parameters()},  # Includes GaussianLikelihood parameters\n",
    "], lr=0.1)\n",
    "\n",
    "# \"Loss\" for GPs - the marginal log likelihood\n",
    "mll = gpytorch.mlls.ExactMarginalLogLikelihood(likelihood, model)\n",
    "\n",
    "n_iter = 300\n",
    "for i in range(n_iter):\n",
    "    optimizer.zero_grad()\n",
    "    output = model(train_x)\n",
    "    loss = -mll(output, train_y)\n",
    "    loss.backward()\n",
    "    print('Iter %d/%d - Loss: %.3f lengthscale: %.3f noise: %.3f' % (i + 1, n_iter, loss.item(), model.covar_module.data_covar_module.base_kernel.lengthscale, likelihood.noise))\n",
    "    \n",
    "    optimizer.step()"
   ]
  },
  {
   "cell_type": "markdown",
   "metadata": {},
   "source": [
    "Use the fitted model to predict the call and put values of the test set"
   ]
  },
  {
   "cell_type": "code",
   "execution_count": 10,
   "metadata": {},
   "outputs": [],
   "source": [
    "model.eval()\n",
    "likelihood.eval()\n",
    "with torch.no_grad(), gpytorch.settings.fast_pred_var():\n",
    "    y_hat = likelihood(model(test_x))\n",
    "lower, upper = y_hat.confidence_region()"
   ]
  },
  {
   "cell_type": "markdown",
   "metadata": {},
   "source": [
    "Print the fitted parameters"
   ]
  },
  {
   "cell_type": "code",
   "execution_count": 11,
   "metadata": {
    "scrolled": true
   },
   "outputs": [
    {
     "name": "stdout",
     "output_type": "stream",
     "text": [
      "tensor([[0.2136]], grad_fn=<SoftplusBackward>)\n",
      "tensor([1.6572], grad_fn=<AddBackward0>)\n",
      "2.5\n",
      "[[50.605774 -3.785684]\n",
      " [-3.785684  9.241887]]\n"
     ]
    }
   ],
   "source": [
    "a = model.covar_module.task_covar_module.covar_factor.clone().detach()\n",
    "v = model.covar_module.task_covar_module.var.clone().detach()\n",
    "Omega = np.outer(a,a) + np.diag(v)\n",
    "lengthscale = model.covar_module.data_covar_module.base_kernel.lengthscale\n",
    "sigma_2_n = likelihood.noise\n",
    "nu = model.covar_module.data_covar_module.base_kernel.nu\n",
    "print(lengthscale, sigma_2_n, nu, Omega, sep='\\n')"
   ]
  },
  {
   "cell_type": "markdown",
   "metadata": {},
   "source": [
    "Plot the predictions of the model, with variance bands"
   ]
  },
  {
   "cell_type": "code",
   "execution_count": 12,
   "metadata": {
    "scrolled": false
   },
   "outputs": [
    {
     "data": {
      "image/png": "[encoded data removed]",
      "text/plain": [
       "<Figure size 720x432 with 1 Axes>"
      ]
     },
     "metadata": {},
     "output_type": "display_data"
    },
    {
     "data": {
      "image/png": "[encoded data removed]",
      "text/plain": [
       "<Figure size 720x432 with 1 Axes>"
      ]
     },
     "metadata": {},
     "output_type": "display_data"
    },
    {
     "data": {
      "image/png": "[encoded data removed]",
      "text/plain": [
       "<Figure size 720x432 with 1 Axes>"
      ]
     },
     "metadata": {},
     "output_type": "display_data"
    }
   ],
   "source": [
    "plt.figure(figsize = (10, 6), facecolor='white', edgecolor='black')\n",
    "plt.plot(lb+(ub-lb)*np.array(test_x.flatten()), np.array(y_hat.mean[:,0]), color = 'red', label = 'GP Prediction')\n",
    "plt.plot(lb+(ub-lb)*np.array(test_x.flatten()), np.array(test_y[:,0]), color = 'black', label = 'Analytical Model')\n",
    "plt.scatter(lb+(ub-lb)*train_x, train_y[:,0], color = 'black', marker = '+', s = 100) \n",
    "plt.fill_between(lb+(ub-lb)*np.array(test_x.flatten()), lower[:,0].detach().numpy(), upper[:,0].detach().numpy(), color = 'grey', alpha=0.3)\n",
    "plt.legend(loc = 'best', prop={'size':10})\n",
    "plt.xlim([KC/2.0,2*KC])\n",
    "plt.xlabel('S')\n",
    "plt.ylabel('V')\n",
    "\n",
    "\n",
    "plt.figure(figsize = (10, 6), facecolor='white', edgecolor='black')\n",
    "plt.plot(lb+(ub-lb)*np.array(test_x.flatten()), np.array(y_hat.mean[:,1]), color = 'red', label = 'GP Prediction')\n",
    "plt.plot(lb+(ub-lb)*np.array(test_x.flatten()), np.array(test_y[:,1]), color = 'black', label = 'Analytical Model')\n",
    "plt.scatter(lb+(ub-lb)*train_x, train_y[:,1], color = 'black', marker = '+', s = 100) \n",
    "plt.fill_between(lb+(ub-lb)*np.array(test_x.flatten()), lower[:,1].detach().numpy(), upper[:,1].detach().numpy(), color = 'grey', alpha=0.3)\n",
    "plt.legend(loc = 'best', prop={'size':10})\n",
    "plt.xlim([KP/2.0,2*KP])\n",
    "plt.xlabel('S')\n",
    "plt.ylabel('V')\n",
    "\n",
    "\n",
    "plt.figure(figsize = (10, 6), facecolor='white', edgecolor='black')\n",
    "plt.plot(lb+(ub-lb)*np.array(test_x.flatten()), 2.0*np.array(y_hat.mean[:,0])- np.array(y_hat.mean[:,1]), color = 'red', label = 'GP Prediction')\n",
    "plt.plot(lb+(ub-lb)*np.array(test_x.flatten()), 2.0*np.array(test_y[:,0])-np.array(test_y[:,1]) , color = 'black', label = 'Analytical Model')\n",
    "plt.scatter(lb+(ub-lb)*train_x, 2*train_y[:,0]-train_y[:,1], color = 'black', marker = '+', s = 100) \n",
    "\n",
    "plt.fill_between(lb+(ub-lb)*np.array(test_x.flatten()), 2.0*lower[:,0].detach().numpy()-upper[:,1].detach().numpy() , 2.0*upper[:,0].detach().numpy()-lower[:,1].detach().numpy(), color = 'grey', alpha=0.3)\n",
    "plt.legend(loc = 'best', prop={'size':10})\n",
    "plt.xlim([KP/2.0,2*KC])\n",
    "plt.xlabel('S')\n",
    "plt.ylabel('$\\pi$');"
   ]
  },
  {
   "cell_type": "markdown",
   "metadata": {},
   "source": [
    "## Evaluate the covariance of the posterior"
   ]
  },
  {
   "cell_type": "code",
   "execution_count": 13,
   "metadata": {},
   "outputs": [],
   "source": [
    "var_1 = np.diag(np.array(y_hat.covariance_matrix.detach().numpy()),0)[0:199:2]\n",
    "var_2 = np.diag(np.array(y_hat.covariance_matrix.detach().numpy()),0)[1:199:2]\n",
    "covar_12 = np.diag(np.array(y_hat.covariance_matrix.detach().numpy()),1)[0:199:2]"
   ]
  },
  {
   "cell_type": "code",
   "execution_count": 14,
   "metadata": {},
   "outputs": [
    {
     "name": "stderr",
     "output_type": "stream",
     "text": [
      "/home/cwm/anaconda3/envs/MLFenv/lib/python3.6/site-packages/scipy/stats/_continuous_distns.py:547: RuntimeWarning: invalid value encountered in sqrt\n",
      "  sk = 2*(b-a)*np.sqrt(a + b + 1) / (a + b + 2) / np.sqrt(a*b)\n",
      "/home/cwm/anaconda3/envs/MLFenv/lib/python3.6/site-packages/scipy/optimize/minpack.py:162: RuntimeWarning: The iteration is not making good progress, as measured by the \n",
      "  improvement from the last ten iterations.\n",
      "  warnings.warn(msg, RuntimeWarning)\n",
      "/home/cwm/anaconda3/envs/MLFenv/lib/python3.6/site-packages/scipy/stats/_continuous_distns.py:547: RuntimeWarning: invalid value encountered in sqrt\n",
      "  sk = 2*(b-a)*np.sqrt(a + b + 1) / (a + b + 2) / np.sqrt(a*b)\n",
      "/home/cwm/anaconda3/envs/MLFenv/lib/python3.6/site-packages/scipy/optimize/minpack.py:162: RuntimeWarning: The iteration is not making good progress, as measured by the \n",
      "  improvement from the last ten iterations.\n",
      "  warnings.warn(msg, RuntimeWarning)\n",
      "/home/cwm/anaconda3/envs/MLFenv/lib/python3.6/site-packages/scipy/stats/_continuous_distns.py:547: RuntimeWarning: invalid value encountered in sqrt\n",
      "  sk = 2*(b-a)*np.sqrt(a + b + 1) / (a + b + 2) / np.sqrt(a*b)\n",
      "/home/cwm/anaconda3/envs/MLFenv/lib/python3.6/site-packages/scipy/optimize/minpack.py:162: RuntimeWarning: The iteration is not making good progress, as measured by the \n",
      "  improvement from the last ten iterations.\n",
      "  warnings.warn(msg, RuntimeWarning)\n"
     ]
    },
    {
     "data": {
      "image/png": "[encoded data removed]",
      "text/plain": [
       "<Figure size 432x288 with 1 Axes>"
      ]
     },
     "metadata": {
      "needs_background": "light"
     },
     "output_type": "display_data"
    }
   ],
   "source": [
    "lnspc = np.linspace(-5.0, 30, 100)\n",
    "\n",
    "ab,bb,cb,db = stats.beta.fit(var_1)  \n",
    "pdf_beta = stats.beta.pdf(lnspc, ab, bb, cb, db)  \n",
    "plt.plot(lnspc, pdf_beta, label='var($f_{*1}$ $\\|$ $X,Y,X_*$)', color='r')\n",
    "\n",
    "ab,bb,cb,db = stats.beta.fit(var_2)  \n",
    "pdf_beta = stats.beta.pdf(lnspc, ab, bb, cb, db)  \n",
    "plt.plot(lnspc, pdf_beta, label='var($f_{*2}$ $\\|$ $X,Y,X_*$)', color='k')\n",
    "\n",
    "ab,bb,cb,db = stats.beta.fit(covar_12)  \n",
    "pdf_beta = stats.beta.pdf(lnspc, ab, bb, cb, db)  \n",
    "plt.plot(lnspc, pdf_beta, label='covar($f_{*1}f_{*2}$ $\\|$ $X,Y,X_*$)', color=\"grey\", linestyle='--')\n",
    "\n",
    "plt.xlabel('uncertainty')\n",
    "plt.ylabel('density')\n",
    "plt.legend()\n",
    "plt.show()"
   ]
  }
 ],
 "metadata": {
  "kernelspec": {
   "display_name": "Python 3",
   "language": "python",
   "name": "python3"
  },
  "language_info": {
   "codemirror_mode": {
    "name": "ipython",
    "version": 3
   },
   "file_extension": ".py",
   "mimetype": "text/x-python",
   "name": "python",
   "nbconvert_exporter": "python",
   "pygments_lexer": "ipython3",
   "version": "3.6.13"
  }
 },
 "nbformat": 4,
 "nbformat_minor": 2
}
