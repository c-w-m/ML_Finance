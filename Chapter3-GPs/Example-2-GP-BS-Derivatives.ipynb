{
 "cells": [
  {
   "cell_type": "code",
   "execution_count": 1,
   "metadata": {},
   "outputs": [],
   "source": [
    "# Example-2-GP-BS-Derivatives\n",
    "# Author: Matthew Dixon\n",
    "# Version: 1.0 (28.4.2020)\n",
    "# License: MIT\n",
    "# Email: matthew.dixon@iit.edu\n",
    "# Notes: tested on Mac OS X running Python 3.6.9 with the following packages:\n",
    "# scikit-learn=0.22.1, numpy=1.18.1, matplotlib=3.1.3\n",
    "# Citation: Please cite the following reference if this notebook is used for research purposes:\n",
    "# Dixon M.F. Halperin I. and P. Bilokon, Machine Learning in Finance: From Theory to Practice, Springer Graduate textbook Series, 2020. "
   ]
  },
  {
   "cell_type": "markdown",
   "metadata": {},
   "source": [
    "# Overview\n",
    "The purpose of this notebook is to demonstrate the derivation of the greeks in a Gaussian Process Regression model (GP), fitted to option price data. \n",
    "\n",
    "In this notebook, European option prices are generated from the Black-Scholes model.  The notebook begins by building a GP call model, where the input is the underlying price. The delta is then derived and compared with the Black-Scholes (BS)\n",
    "delta. The exercise is repeated, but using the volatility as the input instead of the underlying price. The vega of the GP is then derived and compared with the BS vega."
   ]
  },
  {
   "cell_type": "code",
   "execution_count": 1,
   "metadata": {},
   "outputs": [],
   "source": [
    "from BlackScholes import bsformula\n",
    "\n",
    "import numpy as np\n",
    "import scipy as sp\n",
    "\n",
    "from sklearn import gaussian_process\n",
    "from sklearn.gaussian_process.kernels import RBF\n",
    "\n",
    "import matplotlib.pyplot as plt\n",
    "\n",
    "%matplotlib inline"
   ]
  },
  {
   "cell_type": "markdown",
   "metadata": {},
   "source": [
    "## Black-Scholes Model"
   ]
  },
  {
   "cell_type": "markdown",
   "metadata": {},
   "source": [
    "First, set the model parameters"
   ]
  },
  {
   "cell_type": "code",
   "execution_count": 2,
   "metadata": {},
   "outputs": [],
   "source": [
    "KC = 130    # Call strike\n",
    "KP = 70     # Put strike\n",
    "r = 0.002   # risk-free rate\n",
    "sigma = 0.4 # implied volatility\n",
    "T = 2.0     # Time to maturity\n",
    "S0 = 100    # Underlying spot"
   ]
  },
  {
   "cell_type": "code",
   "execution_count": 3,
   "metadata": {},
   "outputs": [],
   "source": [
    "lb = 0   # lower bound on domain\n",
    "ub = 300 # upper bound on domain\n",
    "training_number = 100 # Number of training samples\n",
    "testing_number = 50   # Number of testing samples\n",
    "sigma_n = 1e-8 # additive noise in GP"
   ]
  },
  {
   "cell_type": "markdown",
   "metadata": {},
   "source": [
    "Define the call and put prices using the BS model"
   ]
  },
  {
   "cell_type": "code",
   "execution_count": 4,
   "metadata": {},
   "outputs": [],
   "source": [
    "call = lambda x, y: bsformula(1, lb+(ub-lb)*x, KC, r, T, y, 0)[0]\n",
    "put = lambda x, y: bsformula(-1, lb+(ub-lb)*x, KP, r, T, y, 0)[0]"
   ]
  },
  {
   "cell_type": "markdown",
   "metadata": {},
   "source": [
    "# Delta"
   ]
  },
  {
   "cell_type": "markdown",
   "metadata": {},
   "source": [
    "Generate the training and testing data, where the input is the gridded underlying and the output are the option prices. "
   ]
  },
  {
   "cell_type": "code",
   "execution_count": 5,
   "metadata": {},
   "outputs": [],
   "source": [
    "x_train = np.array(np.linspace(0.01, 1.2, training_number), dtype='float32').reshape(training_number, 1)\n",
    "x_test = np.array(np.linspace(0.01, 1.0, testing_number), dtype='float32').reshape(testing_number, 1)\n",
    "\n",
    "y_train = []\n",
    "    \n",
    "for idx in range(len(x_train)):\n",
    "    y_train.append(call(x_train[idx], sigma))\n",
    "y_train = np.array(y_train)"
   ]
  },
  {
   "cell_type": "markdown",
   "metadata": {},
   "source": [
    "Fit the GP model to the generated data"
   ]
  },
  {
   "cell_type": "code",
   "execution_count": 6,
   "metadata": {
    "scrolled": true
   },
   "outputs": [
    {
     "name": "stderr",
     "output_type": "stream",
     "text": [
      "/home/cwm/anaconda3/envs/MLFenv/lib/python3.6/site-packages/sklearn/gaussian_process/_gpr.py:494: ConvergenceWarning: lbfgs failed to converge (status=2):\n",
      "ABNORMAL_TERMINATION_IN_LNSRCH.\n",
      "\n",
      "Increase the number of iterations (max_iter) or scale the data as shown in:\n",
      "    https://scikit-learn.org/stable/modules/preprocessing.html\n",
      "  _check_optimize_result(\"lbfgs\", opt_res)\n"
     ]
    },
    {
     "data": {
      "text/plain": [
       "GaussianProcessRegressor(alpha=1e-10, copy_X_train=True,\n",
       "                         kernel=RBF(length_scale=1), n_restarts_optimizer=20,\n",
       "                         normalize_y=False, optimizer='fmin_l_bfgs_b',\n",
       "                         random_state=None)"
      ]
     },
     "execution_count": 6,
     "metadata": {},
     "output_type": "execute_result"
    }
   ],
   "source": [
    "sk_kernel = RBF(length_scale=1.0, length_scale_bounds=(0.01, 10000.0))\n",
    "gp = gaussian_process.GaussianProcessRegressor(kernel=sk_kernel, n_restarts_optimizer=20)\n",
    "gp.fit(x_train, y_train)\n"
   ]
  },
  {
   "cell_type": "markdown",
   "metadata": {},
   "source": [
    "Get the model's predicted outputs for each of the test inputs"
   ]
  },
  {
   "cell_type": "code",
   "execution_count": 7,
   "metadata": {
    "scrolled": true
   },
   "outputs": [
    {
     "name": "stderr",
     "output_type": "stream",
     "text": [
      "/home/cwm/anaconda3/envs/MLFenv/lib/python3.6/site-packages/sklearn/gaussian_process/_gpr.py:362: UserWarning: Predicted variances smaller than 0. Setting those variances to 0.\n",
      "  warnings.warn(\"Predicted variances smaller than 0. \"\n"
     ]
    }
   ],
   "source": [
    "y_pred, sigma_hat = gp.predict(x_test, return_std=True)"
   ]
  },
  {
   "cell_type": "markdown",
   "metadata": {},
   "source": [
    "Derive the GP delta"
   ]
  },
  {
   "cell_type": "code",
   "execution_count": 8,
   "metadata": {},
   "outputs": [
    {
     "name": "stderr",
     "output_type": "stream",
     "text": [
      "/home/cwm/.local/lib/python3.6/site-packages/numpy/core/_asarray.py:83: VisibleDeprecationWarning: Creating an ndarray from ragged nested sequences (which is a list-or-tuple of lists-or-tuples-or ndarrays with different lengths or shapes) is deprecated. If you meant to do this, you must specify 'dtype=object' when creating the ndarray\n",
      "  return array(a, dtype, copy=False, order=order)\n"
     ]
    }
   ],
   "source": [
    "l = gp.kernel_.length_scale\n",
    "rbf = gaussian_process.kernels.RBF(length_scale=l)\n",
    " \n",
    "Kernel = rbf(x_train, x_train)\n",
    "K_y = Kernel + np.eye(training_number) * sigma_n\n",
    "L = sp.linalg.cho_factor(K_y)\n",
    "alpha_p = sp.linalg.cho_solve(np.transpose(L), y_train)\n",
    "    \n",
    "k_s = rbf(x_test, x_train)\n",
    "k_s_prime = (x_train.T - x_test) * k_s / l**2\n",
    "f_prime = np.dot(k_s_prime, alpha_p) / (ub - lb)"
   ]
  },
  {
   "cell_type": "markdown",
   "metadata": {},
   "source": [
    "Calculate the BS delta"
   ]
  },
  {
   "cell_type": "code",
   "execution_count": 9,
   "metadata": {
    "scrolled": true
   },
   "outputs": [
    {
     "data": {
      "text/plain": [
       "array([[ 4.26240111e-04],\n",
       "       [-1.57339171e-04],\n",
       "       [-7.96774991e-05],\n",
       "       [ 3.51441151e-05],\n",
       "       [-1.64425324e-05],\n",
       "       [-6.84632761e-05],\n",
       "       [-8.77168163e-05],\n",
       "       [-2.46183787e-05],\n",
       "       [-1.25701825e-05],\n",
       "       [-3.45652418e-05],\n",
       "       [-6.58556591e-05],\n",
       "       [-1.78166052e-06],\n",
       "       [-5.63361453e-05],\n",
       "       [-1.91566217e-05],\n",
       "       [-1.36091662e-05],\n",
       "       [-2.35508259e-05],\n",
       "       [-2.67627341e-05],\n",
       "       [-1.78428605e-05],\n",
       "       [-9.59660608e-07],\n",
       "       [ 1.03580642e-05],\n",
       "       [ 9.13921664e-06],\n",
       "       [ 3.02028230e-07],\n",
       "       [-4.05412273e-06],\n",
       "       [ 3.57136270e-06],\n",
       "       [ 1.40010909e-05],\n",
       "       [ 2.25340574e-05],\n",
       "       [ 1.56597234e-05],\n",
       "       [-1.80053448e-06],\n",
       "       [-1.56859592e-05],\n",
       "       [-1.63531722e-05],\n",
       "       [-5.96908443e-06],\n",
       "       [-2.16811574e-06],\n",
       "       [-1.78767450e-05],\n",
       "       [-5.31250137e-05],\n",
       "       [-8.83337273e-05],\n",
       "       [-1.01072132e-04],\n",
       "       [-8.75346566e-05],\n",
       "       [-6.64554481e-05],\n",
       "       [-6.17912846e-05],\n",
       "       [-7.90602002e-05],\n",
       "       [-9.70649497e-05],\n",
       "       [-7.31828226e-05],\n",
       "       [ 1.44075171e-05],\n",
       "       [ 1.54321605e-04],\n",
       "       [ 3.00715121e-04],\n",
       "       [ 4.25722757e-04],\n",
       "       [ 5.44117157e-04],\n",
       "       [ 7.22347678e-04],\n",
       "       [ 1.01244038e-03],\n",
       "       [ 1.40218311e-03]])"
      ]
     },
     "execution_count": 9,
     "metadata": {},
     "output_type": "execute_result"
    }
   ],
   "source": [
    "delta = lambda x, y: bsformula(1, lb+(ub-lb)*x, KC, r, T, y, 0)[1]\n",
    "delta(x_test, sigma) - f_prime"
   ]
  },
  {
   "cell_type": "markdown",
   "metadata": {},
   "source": [
    "Compare the GP delta with the BS delta"
   ]
  },
  {
   "cell_type": "code",
   "execution_count": 10,
   "metadata": {},
   "outputs": [
    {
     "data": {
      "image/png": "[encoded data removed]",
      "text/plain": [
       "<Figure size 720x432 with 1 Axes>"
      ]
     },
     "metadata": {},
     "output_type": "display_data"
    }
   ],
   "source": [
    "plt.figure(figsize = (10,6),facecolor='white', edgecolor='black')\n",
    "plt.plot(lb+(ub-lb)*x_test, delta(x_test,sigma), color = 'black', label = 'Exact')\n",
    "plt.plot(lb+(ub-lb)*x_test, f_prime, color = 'red', label = 'GP')\n",
    "plt.grid(True)\n",
    "plt.xlabel('S')\n",
    "plt.ylabel('$\\Delta$')\n",
    "plt.legend(loc = 'best', prop={'size':10});"
   ]
  },
  {
   "cell_type": "markdown",
   "metadata": {},
   "source": [
    "Show the error between the GP delta and the BS delta"
   ]
  },
  {
   "cell_type": "code",
   "execution_count": 11,
   "metadata": {},
   "outputs": [
    {
     "data": {
      "image/png": "[encoded data removed]",
      "text/plain": [
       "<Figure size 720x432 with 1 Axes>"
      ]
     },
     "metadata": {},
     "output_type": "display_data"
    }
   ],
   "source": [
    "plt.figure(figsize = (10,6),facecolor='white', edgecolor='black')\n",
    "plt.plot(lb+(ub-lb)*x_test, delta(x_test,sigma) - f_prime, color = 'black', label = 'GP Error')\n",
    "plt.grid(True)\n",
    "plt.xlabel('S')\n",
    "plt.ylabel('Error in $\\Delta$')\n",
    "plt.legend(loc = 'best', prop={'size':10});"
   ]
  },
  {
   "cell_type": "markdown",
   "metadata": {},
   "source": [
    "## Vega"
   ]
  },
  {
   "cell_type": "markdown",
   "metadata": {},
   "source": [
    "Generate the training and testing data, where the input is the gridded underlying and the output are the option prices. The inputs are again scaled to the unit domain. "
   ]
  },
  {
   "cell_type": "code",
   "execution_count": 12,
   "metadata": {},
   "outputs": [],
   "source": [
    "x_train = np.array(np.linspace(0.01, 1.2, training_number), dtype='float32').reshape(training_number, 1)\n",
    "x_test = np.array(np.linspace(0.01, 1.0, testing_number), dtype='float32').reshape(testing_number, 1)\n",
    "\n",
    "y_train = []\n",
    "for idx in range(len(x_train)):\n",
    "    y_train.append(call((S0-lb)/(ub-lb), x_train[idx]))\n",
    "y_train = np.array(y_train)"
   ]
  },
  {
   "cell_type": "markdown",
   "metadata": {},
   "source": [
    "Fit the GP model to the generated data"
   ]
  },
  {
   "cell_type": "code",
   "execution_count": 13,
   "metadata": {},
   "outputs": [
    {
     "name": "stderr",
     "output_type": "stream",
     "text": [
      "/home/cwm/anaconda3/envs/MLFenv/lib/python3.6/site-packages/sklearn/gaussian_process/_gpr.py:494: ConvergenceWarning: lbfgs failed to converge (status=2):\n",
      "ABNORMAL_TERMINATION_IN_LNSRCH.\n",
      "\n",
      "Increase the number of iterations (max_iter) or scale the data as shown in:\n",
      "    https://scikit-learn.org/stable/modules/preprocessing.html\n",
      "  _check_optimize_result(\"lbfgs\", opt_res)\n"
     ]
    },
    {
     "data": {
      "text/plain": [
       "GaussianProcessRegressor(alpha=1e-10, copy_X_train=True,\n",
       "                         kernel=RBF(length_scale=1), n_restarts_optimizer=20,\n",
       "                         normalize_y=False, optimizer='fmin_l_bfgs_b',\n",
       "                         random_state=None)"
      ]
     },
     "execution_count": 13,
     "metadata": {},
     "output_type": "execute_result"
    }
   ],
   "source": [
    "sk_kernel = RBF(length_scale=1.0, length_scale_bounds=(0.01, 10000.0))\n",
    "gp = gaussian_process.GaussianProcessRegressor(kernel=sk_kernel, n_restarts_optimizer=20)\n",
    "gp.fit(x_train, y_train)"
   ]
  },
  {
   "cell_type": "markdown",
   "metadata": {},
   "source": [
    "Get the model's predicted outputs for each of the test inputs"
   ]
  },
  {
   "cell_type": "code",
   "execution_count": 14,
   "metadata": {},
   "outputs": [
    {
     "name": "stderr",
     "output_type": "stream",
     "text": [
      "/home/cwm/anaconda3/envs/MLFenv/lib/python3.6/site-packages/sklearn/gaussian_process/_gpr.py:362: UserWarning: Predicted variances smaller than 0. Setting those variances to 0.\n",
      "  warnings.warn(\"Predicted variances smaller than 0. \"\n"
     ]
    }
   ],
   "source": [
    "y_pred, sigma_hat = gp.predict(x_test, return_std=True)"
   ]
  },
  {
   "cell_type": "markdown",
   "metadata": {},
   "source": [
    "Derive the GP delta"
   ]
  },
  {
   "cell_type": "code",
   "execution_count": 15,
   "metadata": {},
   "outputs": [
    {
     "name": "stderr",
     "output_type": "stream",
     "text": [
      "/home/cwm/.local/lib/python3.6/site-packages/numpy/core/_asarray.py:83: VisibleDeprecationWarning: Creating an ndarray from ragged nested sequences (which is a list-or-tuple of lists-or-tuples-or ndarrays with different lengths or shapes) is deprecated. If you meant to do this, you must specify 'dtype=object' when creating the ndarray\n",
      "  return array(a, dtype, copy=False, order=order)\n"
     ]
    }
   ],
   "source": [
    "l = gp.kernel_.length_scale\n",
    "rbf = gaussian_process.kernels.RBF(length_scale=l)\n",
    " \n",
    "Kernel= rbf(x_train, x_train)\n",
    "K_y = Kernel + np.eye(training_number) * sigma_n\n",
    "L = sp.linalg.cho_factor(K_y)\n",
    "alpha_p = sp.linalg.cho_solve(np.transpose(L), y_train)\n",
    "    \n",
    "k_s = rbf(x_test, x_train)\n",
    "\n",
    "k_s_prime = np.zeros([len(x_test), len(x_train)])\n",
    "for i in range(len(x_test)):\n",
    "    for j in range(len(x_train)):\n",
    "        k_s_prime[i, j] = (1.0/l**2) * (x_train[j] - x_test[i]) * k_s[i, j]\n",
    "        \n",
    "f_prime = np.dot(k_s_prime, alpha_p)"
   ]
  },
  {
   "cell_type": "markdown",
   "metadata": {},
   "source": [
    "Calculate the BS delta"
   ]
  },
  {
   "cell_type": "code",
   "execution_count": 16,
   "metadata": {},
   "outputs": [
    {
     "data": {
      "text/plain": [
       "array([[ 0.05596065],\n",
       "       [-0.02833922],\n",
       "       [ 0.06520502],\n",
       "       [-0.05618545],\n",
       "       [ 0.05925031],\n",
       "       [-0.01502048],\n",
       "       [ 0.0474735 ],\n",
       "       [ 0.02664641],\n",
       "       [-0.01839891],\n",
       "       [ 0.0379221 ],\n",
       "       [ 0.03449399],\n",
       "       [-0.01187749],\n",
       "       [ 0.01524447],\n",
       "       [ 0.00528651],\n",
       "       [-0.00053226],\n",
       "       [ 0.0147401 ],\n",
       "       [ 0.00166217],\n",
       "       [-0.00292816],\n",
       "       [ 0.0034204 ],\n",
       "       [ 0.00416657],\n",
       "       [-0.00222088],\n",
       "       [ 0.00217928],\n",
       "       [-0.00119557],\n",
       "       [-0.00217067],\n",
       "       [-0.00659716],\n",
       "       [-0.00389571],\n",
       "       [-0.00530388],\n",
       "       [-0.00337184],\n",
       "       [-0.00339402],\n",
       "       [-0.00477494],\n",
       "       [-0.0032496 ],\n",
       "       [-0.00242704],\n",
       "       [-0.00239756],\n",
       "       [-0.00255562],\n",
       "       [ 0.00022932],\n",
       "       [-0.002161  ],\n",
       "       [-0.00234469],\n",
       "       [ 0.00391345],\n",
       "       [-0.00132469],\n",
       "       [-0.00065218],\n",
       "       [ 0.00176267],\n",
       "       [-0.00505033],\n",
       "       [-0.00499402],\n",
       "       [-0.00446736],\n",
       "       [-0.02359793],\n",
       "       [-0.03801579],\n",
       "       [-0.04901558],\n",
       "       [-0.0810454 ],\n",
       "       [-0.09116197],\n",
       "       [-0.09974893]])"
      ]
     },
     "execution_count": 16,
     "metadata": {},
     "output_type": "execute_result"
    }
   ],
   "source": [
    "vega = lambda x, y: bsformula(1, lb + (ub-lb) * x, KC, r, T, y, 0)[2]\n",
    "vega((S0-lb)/(ub-lb), x_test) - f_prime"
   ]
  },
  {
   "cell_type": "markdown",
   "metadata": {},
   "source": [
    "Compare the GP vega with the BS vega\n"
   ]
  },
  {
   "cell_type": "code",
   "execution_count": 17,
   "metadata": {},
   "outputs": [
    {
     "data": {
      "image/png": "[encoded data removed]",
      "text/plain": [
       "<Figure size 720x432 with 1 Axes>"
      ]
     },
     "metadata": {},
     "output_type": "display_data"
    }
   ],
   "source": [
    "plt.figure(figsize = (10,6), facecolor='white', edgecolor='black')\n",
    "plt.plot(x_test, vega((S0-lb)/(ub-lb), x_test), color = 'black', label = 'Exact')\n",
    "plt.plot(x_test, f_prime, color = 'red', label = 'GP')\n",
    "plt.grid(True)\n",
    "plt.xlabel('$\\\\sigma$')\n",
    "plt.ylabel('$\\\\nu$')\n",
    "plt.legend(loc = 'best', prop={'size':10});"
   ]
  },
  {
   "cell_type": "markdown",
   "metadata": {},
   "source": [
    "Plot the error between the GP vega and the BS vega\n"
   ]
  },
  {
   "cell_type": "code",
   "execution_count": 18,
   "metadata": {},
   "outputs": [
    {
     "data": {
      "image/png": "[encoded data removed]",
      "text/plain": [
       "<Figure size 720x432 with 1 Axes>"
      ]
     },
     "metadata": {},
     "output_type": "display_data"
    }
   ],
   "source": [
    "plt.figure(figsize = (10,6), facecolor='white', edgecolor='black')\n",
    "plt.plot(x_test, vega((S0-lb)/(ub-lb), x_test)-f_prime, color = 'black', label = 'GP Error')\n",
    "plt.grid(True)\n",
    "plt.xlabel('$\\\\sigma$')\n",
    "plt.ylabel('Error in $\\\\nu$')\n",
    "plt.legend(loc = 'best', prop={'size':10});"
   ]
  }
 ],
 "metadata": {
  "kernelspec": {
   "display_name": "Python 3",
   "language": "python",
   "name": "python3"
  },
  "language_info": {
   "codemirror_mode": {
    "name": "ipython",
    "version": 3
   },
   "file_extension": ".py",
   "mimetype": "text/x-python",
   "name": "python",
   "nbconvert_exporter": "python",
   "pygments_lexer": "ipython3",
   "version": "3.6.13"
  }
 },
 "nbformat": 4,
 "nbformat_minor": 2
}
